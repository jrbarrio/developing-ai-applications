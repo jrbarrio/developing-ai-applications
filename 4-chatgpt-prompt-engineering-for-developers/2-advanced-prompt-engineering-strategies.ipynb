{
 "cells": [
  {
   "cell_type": "markdown",
   "metadata": {},
   "source": [
    "# Few-shot prompting"
   ]
  },
  {
   "cell_type": "code",
   "execution_count": null,
   "metadata": {},
   "outputs": [],
   "source": [
    "from openai import OpenAI\n",
    "import os\n",
    "\n",
    "from dotenv import load_dotenv, find_dotenv\n",
    "_ = load_dotenv(find_dotenv())\n",
    "\n",
    "client = OpenAI(api_key=os.getenv('OPENAI_API_KEY'))"
   ]
  },
  {
   "cell_type": "code",
   "execution_count": null,
   "metadata": {},
   "outputs": [],
   "source": [
    "def get_response(prompt):\n",
    "  response = client.chat.completions.create(\n",
    "    model=\"gpt-3.5-turbo\",\n",
    "    messages=[{\"role\": \"user\", \"content\": prompt}], \n",
    "    temperature = 0)\n",
    "  return response.choices[0].message.content"
   ]
  },
  {
   "cell_type": "markdown",
   "metadata": {},
   "source": [
    "## Controlling output structure"
   ]
  },
  {
   "cell_type": "code",
   "execution_count": null,
   "metadata": {},
   "outputs": [],
   "source": [
    "prompt = \"\"\"\n",
    "Q: Extract the odd numbers from {1, 3, 7, 12, 19}. A: {1, 3, 7, 19}\n",
    "Q: Extract the odd numbers from {3, 5, 11, 12, 16}. A:\n",
    "\"\"\"\n",
    "\n",
    "response = get_response(prompt)\n",
    "print(response)"
   ]
  },
  {
   "cell_type": "markdown",
   "metadata": {},
   "source": [
    "## Sentiment analysis with few-shot prompting"
   ]
  },
  {
   "cell_type": "code",
   "execution_count": null,
   "metadata": {},
   "outputs": [],
   "source": [
    "response = client.chat.completions.create(\n",
    "  model = \"gpt-3.5-turbo\",\n",
    "  messages = [{\"role\": \"user\", \"content\": \"The product quality exceeded my expectations.\"},\n",
    "              {\"role\": \"assistant\", \"content\": \"1\"},\n",
    "              {\"role\": \"user\", \"content\": \"I had a terrible experience with this product's customer service.\"},\n",
    "              {\"role\": \"assistant\", \"content\": \"-1\"},\n",
    "              {\"role\": \"user\", \"content\": \"The price of the product is really fair given its features.\"}\n",
    "             ],\n",
    "  temperature = 0\n",
    ")\n",
    "print(response.choices[0].message.content)"
   ]
  },
  {
   "cell_type": "markdown",
   "metadata": {},
   "source": [
    "# Multi-step prompting"
   ]
  },
  {
   "cell_type": "markdown",
   "metadata": {},
   "source": [
    "## Single-step prompt"
   ]
  },
  {
   "cell_type": "code",
   "execution_count": null,
   "metadata": {},
   "outputs": [],
   "source": [
    "prompt = \"Create a plan for a beach vacation.\"\n",
    "\n",
    "response = get_response(prompt)\n",
    "print(response)"
   ]
  },
  {
   "cell_type": "markdown",
   "metadata": {},
   "source": [
    "## Multi-step prompt"
   ]
  },
  {
   "cell_type": "code",
   "execution_count": null,
   "metadata": {},
   "outputs": [],
   "source": [
    "prompt = \"\"\"Create a plan for a beach vacation as follows:\n",
    "Step 1 - Specify four potential locations.\n",
    "Step 2 - Offer some accommodation options in each location.\n",
    "Step 3 - Offer some activities in each location.\n",
    "Step 4 - Do an evaluation of the pros and cons of each location.\"\"\"\n",
    "\n",
    "response = get_response(prompt)\n",
    "print(response)"
   ]
  },
  {
   "cell_type": "markdown",
   "metadata": {},
   "source": [
    "## Analyze solution correctness"
   ]
  },
  {
   "cell_type": "code",
   "execution_count": null,
   "metadata": {},
   "outputs": [],
   "source": [
    "code = '''\n",
    "def calculate_rectangle_area(length, width):\n",
    "    area = length * width\n",
    "    return area\n",
    "'''\n",
    "\n",
    "prompt = f\"\"\"\n",
    "     Analyze the correctness of the function delimited by triple backticks according to the following criteria:\n",
    "      1- It should have correct syntax\n",
    "      2- The function should receive only 2 inputs\n",
    "      3- The function should return only one output\n",
    "      ```{code}```\n",
    "    \"\"\"\n",
    "\n",
    "response = get_response(prompt)\n",
    "print(response)"
   ]
  },
  {
   "cell_type": "markdown",
   "metadata": {},
   "source": [
    "# Chain-of-thought and self-consistency prompting"
   ]
  },
  {
   "cell_type": "markdown",
   "metadata": {},
   "source": [
    "## Reasoning with chain-of-thought prompts"
   ]
  },
  {
   "cell_type": "code",
   "execution_count": null,
   "metadata": {},
   "outputs": [],
   "source": [
    "prompt = \"\"\"My friend's father is double my friend's age, and my friend is 20. What will be my friend's father age in 10 years?\n",
    "A: Let's think step by step\"\"\"\n",
    "\n",
    "response = get_response(prompt)\n",
    "print(response)"
   ]
  },
  {
   "cell_type": "markdown",
   "metadata": {},
   "source": [
    "## One-shot chain-of-thought prompts"
   ]
  },
  {
   "cell_type": "code",
   "execution_count": null,
   "metadata": {},
   "outputs": [],
   "source": [
    "example = \"\"\"Q: Sum the even numbers in the following set: {9, 10, 13, 4, 2}.\n",
    "             A: Even numbers: {10, 4, 2}. Adding them: 10+4+2=16\"\"\"\n",
    "\n",
    "question = \"\"\"Q: Sum the even numbers in the following set: {15, 13, 82, 7, 14}. \n",
    "              A:\"\"\"\n",
    "\n",
    "prompt = example + question\n",
    "response = get_response(prompt)\n",
    "print(response)"
   ]
  },
  {
   "cell_type": "markdown",
   "metadata": {},
   "source": [
    "## Self-consistency prompts"
   ]
  },
  {
   "cell_type": "code",
   "execution_count": null,
   "metadata": {},
   "outputs": [],
   "source": [
    "self_consistency_instruction = \"\"\"Imagine three completely independent experts who reason differently are answering this question. The final answer is obtained by majority vote. The question is: \"\"\"\n",
    "\n",
    "problem_to_solve = \"If you own a store that sells laptops and mobile phones. You start your day with 50 devices in the store, out of which 60% are mobile phones. Throughout the day, three clients visited the store, each of them bought one mobile phone, and one of them bought additionally a laptop. Also, you added to your collection 10 laptops and 5 mobile phones. How many laptops and mobile phones do you have by the end of the day?\"\n",
    "\n",
    "prompt = self_consistency_instruction + problem_to_solve\n",
    "\n",
    "response = get_response(prompt)\n",
    "print(response)"
   ]
  },
  {
   "cell_type": "markdown",
   "metadata": {},
   "source": [
    "# Iterative prompt engineering and refinement"
   ]
  },
  {
   "cell_type": "markdown",
   "metadata": {},
   "source": [
    "## Iterative prompt engineering for standard prompts"
   ]
  },
  {
   "cell_type": "code",
   "execution_count": null,
   "metadata": {},
   "outputs": [],
   "source": [
    "#prompt = \"Give me the top 10 pre-trained language models\"\n",
    "#prompt = \"Give me a table with the top 10 pre-trained language models\"\n",
    "prompt = \"Give me a table with the top 10 pre-trained language models with the following columns: model name, release year and owning company\"\n",
    "\n",
    "response = get_response(prompt)\n",
    "print(response)"
   ]
  },
  {
   "cell_type": "markdown",
   "metadata": {},
   "source": [
    "## Iterative prompt engineering fo few-shot prompts"
   ]
  },
  {
   "cell_type": "code",
   "execution_count": null,
   "metadata": {},
   "outputs": [],
   "source": [
    "prompt = \"\"\"\n",
    "Receiving a promotion at work made me feel on top of the world -> Happiness\n",
    "The movie's ending left me with a heavy feeling in my chest -> Sadness\n",
    "Walking alone in the dark alley sent shivers down my spine -> Fear\n",
    "Time goes by so slowly -> no explicit emotion\n",
    "Time flies like an arrow ->\n",
    "\"\"\"\n",
    "\n",
    "response = get_response(prompt)\n",
    "print(response)"
   ]
  }
 ],
 "metadata": {
  "kernelspec": {
   "display_name": "chatgpt-prompt-enginieering-for-developers",
   "language": "python",
   "name": "python3"
  },
  "language_info": {
   "codemirror_mode": {
    "name": "ipython",
    "version": 3
   },
   "file_extension": ".py",
   "mimetype": "text/x-python",
   "name": "python",
   "nbconvert_exporter": "python",
   "pygments_lexer": "ipython3",
   "version": "3.11.7"
  }
 },
 "nbformat": 4,
 "nbformat_minor": 2
}
