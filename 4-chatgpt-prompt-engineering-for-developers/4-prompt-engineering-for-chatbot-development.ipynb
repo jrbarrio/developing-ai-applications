{
 "cells": [
  {
   "cell_type": "code",
   "execution_count": null,
   "metadata": {},
   "outputs": [],
   "source": [
    "from openai import OpenAI\n",
    "import os\n",
    "\n",
    "from dotenv import load_dotenv, find_dotenv\n",
    "_ = load_dotenv(find_dotenv())\n",
    "\n",
    "client = OpenAI(api_key=os.getenv('OPENAI_API_KEY'))"
   ]
  },
  {
   "cell_type": "code",
   "execution_count": null,
   "metadata": {},
   "outputs": [],
   "source": [
    "def get_response(system_prompt, user_prompt):\n",
    "  # Assign the role and content for each message\n",
    "  messages = [{\"role\": \"system\", \"content\": system_prompt},\n",
    "      \t\t  {\"role\": \"user\", \"content\": user_prompt}]  \n",
    "  response = client.chat.completions.create(\n",
    "      model=\"gpt-3.5-turbo\", messages= messages, temperature=0)\n",
    "  \n",
    "  return response.choices[0].message.content"
   ]
  },
  {
   "cell_type": "markdown",
   "metadata": {},
   "source": [
    "# Prompt engineering for chatbot development"
   ]
  },
  {
   "cell_type": "code",
   "execution_count": null,
   "metadata": {},
   "outputs": [],
   "source": [
    "system_prompt = \"You are an expert data scientist that explains complex concepts in simple terms.\"\n",
    "user_prompt =  \"What is prompt engineering?\"\n",
    "\n",
    "response = get_response(system_prompt, user_prompt)\n",
    "print(response)"
   ]
  },
  {
   "cell_type": "markdown",
   "metadata": {},
   "source": [
    "## Customer support chatbot"
   ]
  },
  {
   "cell_type": "code",
   "execution_count": null,
   "metadata": {},
   "outputs": [],
   "source": [
    "chatbot_purpose = \"You are customer support chatbot for an e-commerce company specializing in electronics. You will assist users with inquiries, order tracking, and troubleshooting common issues.\"\n",
    "audience_guidelines = \"The target audience as tech-savvy individuals interested in purchasing electronic gadgets.\"\n",
    "tone_guidelines = \"Use a professional and user-friendly tone while interacting with customers.\"\n",
    "\n",
    "system_prompt = chatbot_purpose + audience_guidelines + tone_guidelines\n",
    "response = get_response(system_prompt, \"My new headphones aren't connecting to my device\")\n",
    "print(response)"
   ]
  },
  {
   "cell_type": "markdown",
   "metadata": {},
   "source": [
    "## Behavioral control of a customer support chatbot"
   ]
  },
  {
   "cell_type": "code",
   "execution_count": null,
   "metadata": {},
   "outputs": [],
   "source": [
    "chatbot_purpose = \"You are customer support chatbot for an e-commerce company specializing in electronics. You will assist users with inquiries, order tracking, and troubleshooting common issues.\"\n",
    "audience_guidelines = \"The target audience as tech-savvy individuals interested in purchasing electronic gadgets.\"\n",
    "tone_guidelines = \"Use a professional and user-friendly tone while interacting with customers.\"\n",
    "\n",
    "base_system_prompt = chatbot_purpose + audience_guidelines + tone_guidelines\n",
    "\n",
    "order_number_condition = \"Ask the user for their order number if they submitted a query about an order without specifying an order number.\"\n",
    "technical_issue_condition = \"start the response with ```I'm sorry to hear about your issue with ...``` if the user is reporting a technical issue\"\n",
    "refined_system_prompt = base_system_prompt + order_number_condition + technical_issue_condition\n",
    "\n",
    "response_1 = get_response(refined_system_prompt, \"My laptop screen is flickering. What should I do?\")\n",
    "response_2 = get_response(refined_system_prompt, \"Can you help me track my recent order?\")\n",
    "\n",
    "print(\"Response 1: \", response_1)\n",
    "print(\"Response 2: \", response_2)"
   ]
  },
  {
   "cell_type": "markdown",
   "metadata": {},
   "source": [
    "# Role-playing prompts for chatbots"
   ]
  },
  {
   "cell_type": "markdown",
   "metadata": {},
   "source": [
    "## Learning advisor chatbot"
   ]
  },
  {
   "cell_type": "code",
   "execution_count": null,
   "metadata": {},
   "outputs": [],
   "source": [
    "system_prompt = \"You are a learning advisor who can recommend beginner and advanced textbooks based on the user background.\"\n",
    "\n",
    "#user_prompt = \"Hello there! I'm a beginner with a marketing background, and I'm really interested in learning about Python, data analytics, and machine learning. Can you recommend some books?\"\n",
    "user_prompt = \"Hello there! I'm a beginner with a Java software development background, and I'm really interested in learning about software architecture. Can you recommend some books?\"\n",
    "\n",
    "response = get_response(system_prompt, user_prompt)\n",
    "print(response)"
   ]
  },
  {
   "cell_type": "markdown",
   "metadata": {},
   "source": [
    "## Adding guidelines for the learning advisor chatbot"
   ]
  },
  {
   "cell_type": "code",
   "execution_count": null,
   "metadata": {},
   "outputs": [],
   "source": [
    "base_system_prompt = \"Act as a learning advisor who receives queries from users mentioning their background, experience, and goals, and accordingly provides a response that recommends a tailored learning path of textbooks, including both beginner-level and more advanced options.\"\n",
    "\n",
    "behavior_guidelines = \"Request user background, experience, and goals, if they are missing.\"\n",
    "response_guidelines = \"Recommend no more than three textbooks.\"\n",
    "\n",
    "system_prompt = base_system_prompt + behavior_guidelines + response_guidelines\n",
    "#user_prompt = \"Hey, I'm looking for courses on Software Architecture. What do you recommend?\"\n",
    "user_prompt = \"Hello there! I'm a beginner with a Java software development background, I'm looking for courses on Software Architecture. What do you recommend?\"\n",
    "\n",
    "response = get_response(system_prompt, user_prompt)\n",
    "print(response)"
   ]
  },
  {
   "cell_type": "markdown",
   "metadata": {},
   "source": [
    "# Incorporating external context in chatbot conversations"
   ]
  },
  {
   "cell_type": "markdown",
   "metadata": {},
   "source": [
    "## Providing context through sample conversations"
   ]
  },
  {
   "cell_type": "code",
   "execution_count": null,
   "metadata": {},
   "outputs": [],
   "source": [
    "system_prompt = \"You are a customer service chatbot for a delivery service that responds in a gentle way\"\n",
    "\n",
    "context_question = \"What types of items can be delivered using MyPersonalDelivery?\"\n",
    "context_answer = \"We deliver everything from everyday essentials such as groceries, medications, and documents to larger items like electronics, clothing, and furniture. However, please note that we currently do not offer delivery for hazardous materials or extremely fragile items requiring special handling.\"\n",
    "\n",
    "response = client.chat.completions.create(\n",
    "  model=\"gpt-3.5-turbo\",\n",
    "  messages=[{\"role\": \"system\", \"content\": system_prompt},\n",
    "            {\"role\": \"user\", \"content\": context_question},\n",
    "            {\"role\": \"assistant\", \"content\": context_answer },\n",
    "            {\"role\": \"user\", \"content\": \"Do you deliver furniture?\"}])\n",
    "response = response.choices[0].message.content\n",
    "print(response)"
   ]
  },
  {
   "cell_type": "markdown",
   "metadata": {},
   "source": [
    "## Providing context through system prompt"
   ]
  },
  {
   "cell_type": "code",
   "execution_count": null,
   "metadata": {},
   "outputs": [],
   "source": [
    "service_description = \"\"\"\n",
    "Welcome to MyPersonalDelivery, your trusted and versatile delivery service partner. At MyPersonalDelivery, we are committed to providing you with a seamless and efficient delivery experience for a wide range of items. Whether you need groceries, documents, electronics, or even furniture, we've got you covered.\n",
    "\n",
    "Our Services:\n",
    "We offer a diverse range of delivery services to cater to your unique needs. From same-day delivery for urgent items to scheduled deliveries that fit your convenience, we have the flexibility to meet your busy lifestyle. Our real-time tracking system ensures that you can monitor the status of your delivery every step of the way.\n",
    "\n",
    "What We Deliver:\n",
    "Our service is designed to handle various items, including everyday essentials such as groceries and medications. Need to send important documents? No problem, we'll ensure they reach their destination securely. We also specialize in transporting larger items like electronics, clothing, and even furniture. However, please note that we currently do not offer delivery for hazardous materials or items that are extremely fragile and require special handling.\n",
    "\n",
    "Safety and Care:\n",
    "Your items' safety is our top priority. We take pride in our secure handling practices to ensure that your deliveries arrive intact. Our contactless delivery option minimizes physical contact, adding an extra layer of safety during these times. We understand that each item is valuable, and you can trust us to treat your belongings with the utmost care.\n",
    "\n",
    "Why Choose MyPersonalDelivery:\n",
    "- Wide variety of items delivered\n",
    "- Flexible delivery options\n",
    "- Real-time tracking for peace of mind\n",
    "- Secure handling and contactless delivery\n",
    "- Reliable service with a commitment to excellence\n",
    "\n",
    "Whether you need a small package delivered across town or a larger item transported across the city, you can rely on MyPersonalDelivery to provide a reliable, secure, and efficient delivery solution. Your satisfaction is our driving force, and we look forward to serving you with our dedicated and customer-centric approach.\n",
    "\n",
    "Feel free to ask any questions you may have about our services, and we'll be more than happy to assist you.\n",
    "\"\"\"\n",
    "\n",
    "system_prompt = \"\"\"You are a  customer service chatbot for a delivery service that responds in a gentle way and point to a service description that has been delimited by triple backticks: ```{service_description}```\"\"\"\n",
    "\n",
    "user_prompt = \"What benefits does MyPersonalDelivery offer?\"\n",
    "\n",
    "response = get_response(system_prompt, user_prompt)\n",
    "\n",
    "print(response)"
   ]
  }
 ],
 "metadata": {
  "kernelspec": {
   "display_name": "chatgpt-prompt-enginieering-for-developers",
   "language": "python",
   "name": "python3"
  },
  "language_info": {
   "codemirror_mode": {
    "name": "ipython",
    "version": 3
   },
   "file_extension": ".py",
   "mimetype": "text/x-python",
   "name": "python",
   "nbconvert_exporter": "python",
   "pygments_lexer": "ipython3",
   "version": "3.11.7"
  }
 },
 "nbformat": 4,
 "nbformat_minor": 2
}
